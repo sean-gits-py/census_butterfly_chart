{
 "cells": [
  {
   "cell_type": "code",
   "execution_count": null,
   "outputs": [],
   "source": [
    "#https://github.com/frankpd/census_api_examples/blob/master/census_api_example_B.ipynb\n",
    "\n",
    "#https://towardsdatascience.com/create-a-butterfly-chart-easily-using-plotly-aa3d43ba410d\n"
   ],
   "metadata": {
    "collapsed": false
   }
  },
  {
   "cell_type": "code",
   "execution_count": null,
   "outputs": [],
   "source": [
    "import requests, json\n",
    "import pandas as pd"
   ],
   "metadata": {
    "collapsed": false
   }
  },
  {
   "cell_type": "code",
   "execution_count": null,
   "outputs": [],
   "source": [
    "#Set variables\n",
    "year='2018'\n",
    "dsource='pep'\n",
    "dname='components'\n",
    "cols='GEONAME,NATURALINC,DOMESTICMIG,INTERNATIONALMIG'\n",
    "state='36'\n",
    "county='005,047,061,081,085'\n",
    "keyfile='census_key.txt'\n",
    "outfile='zbp2017.json'"
   ],
   "metadata": {
    "collapsed": false
   }
  },
  {
   "cell_type": "code",
   "execution_count": null,
   "outputs": [],
   "source": [
    "base_url = f'https://api.census.gov/data/{year}/{dsource}/{dname}'\n",
    "base_url"
   ],
   "metadata": {
    "collapsed": false
   }
  },
  {
   "cell_type": "code",
   "execution_count": null,
   "outputs": [],
   "source": [
    "#Read api key in from file\n",
    "with open(keyfile) as key:\n",
    "    api_key=key.read().strip()"
   ],
   "metadata": {
    "collapsed": false
   }
  },
  {
   "cell_type": "code",
   "execution_count": null,
   "outputs": [],
   "source": [
    "#Retrieve data, write output when finished\n",
    "data_url = f'{base_url}?get={cols}&for=county:{county}&in=state:{state}&key={census_api_key}'\n",
    "response=requests.get(data_url)\n",
    "outdata=response.json()\n",
    "with open(outfile, 'w') as f:\n",
    "    json.dump(outdata, f)\n",
    "print('Data dumped to json file')\n",
    "print('File has', len(outdata), 'records')"
   ],
   "metadata": {
    "collapsed": false
   }
  },
  {
   "cell_type": "code",
   "execution_count": null,
   "outputs": [],
   "source": [
    "#pandas example\n",
    "#Load data from output file, convert to dataframe, perform some basic operations\n",
    "with open(outfile, 'r') as f:\n",
    "    data=json.load(f)\n",
    "df=pd.DataFrame(data[1:], columns=data[0]).\\\n",
    "rename(columns={\"NATURALINC\": \"Natural Increase\", \"DOMESTICMIG\": \"Net Domestic Mig\", \"INTERNATIONALMIG\":\"Net Foreign Mig\"})\n",
    "df['fips']=df.state+df.county\n",
    "df.set_index('fips',inplace=True)\n",
    "df.drop(columns=['state','county'],inplace=True)\n",
    "df=df.astype(dtype={'Natural Increase':'int64','Net Domestic Mig':'int64','Net Foreign Mig':'int64'})\n",
    "df\n"
   ],
   "metadata": {
    "collapsed": false
   }
  },
  {
   "cell_type": "code",
   "execution_count": null,
   "outputs": [],
   "source": [
    "#Prepare df for plotly butterfly chart format"
   ],
   "metadata": {
    "collapsed": false
   }
  },
  {
   "cell_type": "code",
   "execution_count": null,
   "outputs": [],
   "source": [
    "#Plotly butterfly chart"
   ],
   "metadata": {
    "collapsed": false
   }
  },
  {
   "cell_type": "code",
   "execution_count": 1,
   "outputs": [],
   "source": [
    "# v2 of project could be dash where country is selected and population pyramid is displayed\n",
    "# where would v2 population pyramid data come from?"
   ],
   "metadata": {
    "collapsed": false
   }
  },
  {
   "cell_type": "code",
   "execution_count": null,
   "outputs": [],
   "source": [],
   "metadata": {
    "collapsed": false
   }
  }
 ],
 "metadata": {
  "kernelspec": {
   "display_name": "Python 3",
   "language": "python",
   "name": "python3"
  },
  "language_info": {
   "codemirror_mode": {
    "name": "ipython",
    "version": 2
   },
   "file_extension": ".py",
   "mimetype": "text/x-python",
   "name": "python",
   "nbconvert_exporter": "python",
   "pygments_lexer": "ipython2",
   "version": "2.7.6"
  }
 },
 "nbformat": 4,
 "nbformat_minor": 0
}
